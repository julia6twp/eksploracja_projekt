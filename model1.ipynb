{
 "cells": [
  {
   "cell_type": "code",
   "id": "initial_id",
   "metadata": {
    "collapsed": true,
    "ExecuteTime": {
     "end_time": "2025-05-20T17:40:34.493812Z",
     "start_time": "2025-05-20T17:40:26.698590Z"
    }
   },
   "source": [
    "import pandas as pd\n",
    "import tensorflow as tf"
   ],
   "outputs": [],
   "execution_count": 1
  },
  {
   "metadata": {
    "ExecuteTime": {
     "end_time": "2025-05-20T18:41:16.582835Z",
     "start_time": "2025-05-20T18:41:16.543785Z"
    }
   },
   "cell_type": "code",
   "source": [
    "df = pd.read_csv(\"./data/car_price_prediction.csv\")\n",
    "print(df.head())\n",
    "print(df.info())"
   ],
   "id": "5b71c76838291022",
   "outputs": [
    {
     "name": "stdout",
     "output_type": "stream",
     "text": [
      "         ID  Price  Levy Manufacturer    Model  Prod. year   Category  \\\n",
      "0  45654403  13328  1399        LEXUS   RX 450        2010       Jeep   \n",
      "1  44731507  16621  1018    CHEVROLET  Equinox        2011       Jeep   \n",
      "2  45774419   8467     -        HONDA      FIT        2006  Hatchback   \n",
      "3  45769185   3607   862         FORD   Escape        2011       Jeep   \n",
      "4  45809263  11726   446        HONDA      FIT        2014  Hatchback   \n",
      "\n",
      "  Leather interior Fuel type Engine volume    Mileage  Cylinders  \\\n",
      "0              Yes    Hybrid           3.5  186005 km        6.0   \n",
      "1               No    Petrol             3  192000 km        6.0   \n",
      "2               No    Petrol           1.3  200000 km        4.0   \n",
      "3              Yes    Hybrid           2.5  168966 km        4.0   \n",
      "4              Yes    Petrol           1.3   91901 km        4.0   \n",
      "\n",
      "  Gear box type Drive wheels   Doors             Wheel   Color  Airbags  \n",
      "0     Automatic          4x4  04-May        Left wheel  Silver       12  \n",
      "1     Tiptronic          4x4  04-May        Left wheel   Black        8  \n",
      "2      Variator        Front  04-May  Right-hand drive   Black        2  \n",
      "3     Automatic          4x4  04-May        Left wheel   White        0  \n",
      "4     Automatic        Front  04-May        Left wheel  Silver        4  \n",
      "<class 'pandas.core.frame.DataFrame'>\n",
      "RangeIndex: 19237 entries, 0 to 19236\n",
      "Data columns (total 18 columns):\n",
      " #   Column            Non-Null Count  Dtype  \n",
      "---  ------            --------------  -----  \n",
      " 0   ID                19237 non-null  int64  \n",
      " 1   Price             19237 non-null  int64  \n",
      " 2   Levy              19237 non-null  object \n",
      " 3   Manufacturer      19237 non-null  object \n",
      " 4   Model             19237 non-null  object \n",
      " 5   Prod. year        19237 non-null  int64  \n",
      " 6   Category          19237 non-null  object \n",
      " 7   Leather interior  19237 non-null  object \n",
      " 8   Fuel type         19237 non-null  object \n",
      " 9   Engine volume     19237 non-null  object \n",
      " 10  Mileage           19237 non-null  object \n",
      " 11  Cylinders         19237 non-null  float64\n",
      " 12  Gear box type     19237 non-null  object \n",
      " 13  Drive wheels      19237 non-null  object \n",
      " 14  Doors             19237 non-null  object \n",
      " 15  Wheel             19237 non-null  object \n",
      " 16  Color             19237 non-null  object \n",
      " 17  Airbags           19237 non-null  int64  \n",
      "dtypes: float64(1), int64(4), object(13)\n",
      "memory usage: 2.6+ MB\n",
      "None\n"
     ]
    }
   ],
   "execution_count": 35
  },
  {
   "metadata": {
    "ExecuteTime": {
     "end_time": "2025-05-20T18:41:21.525838Z",
     "start_time": "2025-05-20T18:41:21.511642Z"
    }
   },
   "cell_type": "code",
   "source": [
    "df.columns = [col.strip().replace(' ', '_').replace('.', '').lower() for col in df.columns]\n",
    "print(df.head())\n",
    "print(df.info())\n"
   ],
   "id": "2fa9320fb222ed17",
   "outputs": [
    {
     "name": "stdout",
     "output_type": "stream",
     "text": [
      "         id  price  levy manufacturer    model  prod_year   category  \\\n",
      "0  45654403  13328  1399        LEXUS   RX 450       2010       Jeep   \n",
      "1  44731507  16621  1018    CHEVROLET  Equinox       2011       Jeep   \n",
      "2  45774419   8467     -        HONDA      FIT       2006  Hatchback   \n",
      "3  45769185   3607   862         FORD   Escape       2011       Jeep   \n",
      "4  45809263  11726   446        HONDA      FIT       2014  Hatchback   \n",
      "\n",
      "  leather_interior fuel_type engine_volume    mileage  cylinders  \\\n",
      "0              Yes    Hybrid           3.5  186005 km        6.0   \n",
      "1               No    Petrol             3  192000 km        6.0   \n",
      "2               No    Petrol           1.3  200000 km        4.0   \n",
      "3              Yes    Hybrid           2.5  168966 km        4.0   \n",
      "4              Yes    Petrol           1.3   91901 km        4.0   \n",
      "\n",
      "  gear_box_type drive_wheels   doors             wheel   color  airbags  \n",
      "0     Automatic          4x4  04-May        Left wheel  Silver       12  \n",
      "1     Tiptronic          4x4  04-May        Left wheel   Black        8  \n",
      "2      Variator        Front  04-May  Right-hand drive   Black        2  \n",
      "3     Automatic          4x4  04-May        Left wheel   White        0  \n",
      "4     Automatic        Front  04-May        Left wheel  Silver        4  \n",
      "<class 'pandas.core.frame.DataFrame'>\n",
      "RangeIndex: 19237 entries, 0 to 19236\n",
      "Data columns (total 18 columns):\n",
      " #   Column            Non-Null Count  Dtype  \n",
      "---  ------            --------------  -----  \n",
      " 0   id                19237 non-null  int64  \n",
      " 1   price             19237 non-null  int64  \n",
      " 2   levy              19237 non-null  object \n",
      " 3   manufacturer      19237 non-null  object \n",
      " 4   model             19237 non-null  object \n",
      " 5   prod_year         19237 non-null  int64  \n",
      " 6   category          19237 non-null  object \n",
      " 7   leather_interior  19237 non-null  object \n",
      " 8   fuel_type         19237 non-null  object \n",
      " 9   engine_volume     19237 non-null  object \n",
      " 10  mileage           19237 non-null  object \n",
      " 11  cylinders         19237 non-null  float64\n",
      " 12  gear_box_type     19237 non-null  object \n",
      " 13  drive_wheels      19237 non-null  object \n",
      " 14  doors             19237 non-null  object \n",
      " 15  wheel             19237 non-null  object \n",
      " 16  color             19237 non-null  object \n",
      " 17  airbags           19237 non-null  int64  \n",
      "dtypes: float64(1), int64(4), object(13)\n",
      "memory usage: 2.6+ MB\n",
      "None\n"
     ]
    }
   ],
   "execution_count": 36
  },
  {
   "metadata": {
    "ExecuteTime": {
     "end_time": "2025-05-20T18:41:24.503003Z",
     "start_time": "2025-05-20T18:41:24.492762Z"
    }
   },
   "cell_type": "code",
   "source": [
    "print(df.isnull().sum())\n",
    "print(df['leather_interior'].unique())"
   ],
   "id": "82fe2daf529502f4",
   "outputs": [
    {
     "name": "stdout",
     "output_type": "stream",
     "text": [
      "id                  0\n",
      "price               0\n",
      "levy                0\n",
      "manufacturer        0\n",
      "model               0\n",
      "prod_year           0\n",
      "category            0\n",
      "leather_interior    0\n",
      "fuel_type           0\n",
      "engine_volume       0\n",
      "mileage             0\n",
      "cylinders           0\n",
      "gear_box_type       0\n",
      "drive_wheels        0\n",
      "doors               0\n",
      "wheel               0\n",
      "color               0\n",
      "airbags             0\n",
      "dtype: int64\n",
      "['Yes' 'No']\n"
     ]
    }
   ],
   "execution_count": 37
  },
  {
   "metadata": {
    "ExecuteTime": {
     "end_time": "2025-05-20T18:41:27.946701Z",
     "start_time": "2025-05-20T18:41:27.941275Z"
    }
   },
   "cell_type": "code",
   "source": [
    "print(df.columns.tolist())\n",
    "# df = df.drop(['id'], axis=1)\n",
    "print(df.head())\n"
   ],
   "id": "87039583be3f60f9",
   "outputs": [
    {
     "name": "stdout",
     "output_type": "stream",
     "text": [
      "['id', 'price', 'levy', 'manufacturer', 'model', 'prod_year', 'category', 'leather_interior', 'fuel_type', 'engine_volume', 'mileage', 'cylinders', 'gear_box_type', 'drive_wheels', 'doors', 'wheel', 'color', 'airbags']\n",
      "         id  price  levy manufacturer    model  prod_year   category  \\\n",
      "0  45654403  13328  1399        LEXUS   RX 450       2010       Jeep   \n",
      "1  44731507  16621  1018    CHEVROLET  Equinox       2011       Jeep   \n",
      "2  45774419   8467     -        HONDA      FIT       2006  Hatchback   \n",
      "3  45769185   3607   862         FORD   Escape       2011       Jeep   \n",
      "4  45809263  11726   446        HONDA      FIT       2014  Hatchback   \n",
      "\n",
      "  leather_interior fuel_type engine_volume    mileage  cylinders  \\\n",
      "0              Yes    Hybrid           3.5  186005 km        6.0   \n",
      "1               No    Petrol             3  192000 km        6.0   \n",
      "2               No    Petrol           1.3  200000 km        4.0   \n",
      "3              Yes    Hybrid           2.5  168966 km        4.0   \n",
      "4              Yes    Petrol           1.3   91901 km        4.0   \n",
      "\n",
      "  gear_box_type drive_wheels   doors             wheel   color  airbags  \n",
      "0     Automatic          4x4  04-May        Left wheel  Silver       12  \n",
      "1     Tiptronic          4x4  04-May        Left wheel   Black        8  \n",
      "2      Variator        Front  04-May  Right-hand drive   Black        2  \n",
      "3     Automatic          4x4  04-May        Left wheel   White        0  \n",
      "4     Automatic        Front  04-May        Left wheel  Silver        4  \n"
     ]
    }
   ],
   "execution_count": 38
  },
  {
   "metadata": {
    "ExecuteTime": {
     "end_time": "2025-05-20T18:41:32.099573Z",
     "start_time": "2025-05-20T18:41:32.092537Z"
    }
   },
   "cell_type": "code",
   "source": [
    "print(df['leather_interior'].unique())\n",
    "df['leather_interior'] = df['leather_interior'].map({'Yes': 1, 'No': 0})\n",
    "print(df.head())\n",
    "print(df['leather_interior'].unique())"
   ],
   "id": "4e2b0bf1d856b55c",
   "outputs": [
    {
     "name": "stdout",
     "output_type": "stream",
     "text": [
      "['Yes' 'No']\n",
      "         id  price  levy manufacturer    model  prod_year   category  \\\n",
      "0  45654403  13328  1399        LEXUS   RX 450       2010       Jeep   \n",
      "1  44731507  16621  1018    CHEVROLET  Equinox       2011       Jeep   \n",
      "2  45774419   8467     -        HONDA      FIT       2006  Hatchback   \n",
      "3  45769185   3607   862         FORD   Escape       2011       Jeep   \n",
      "4  45809263  11726   446        HONDA      FIT       2014  Hatchback   \n",
      "\n",
      "   leather_interior fuel_type engine_volume    mileage  cylinders  \\\n",
      "0                 1    Hybrid           3.5  186005 km        6.0   \n",
      "1                 0    Petrol             3  192000 km        6.0   \n",
      "2                 0    Petrol           1.3  200000 km        4.0   \n",
      "3                 1    Hybrid           2.5  168966 km        4.0   \n",
      "4                 1    Petrol           1.3   91901 km        4.0   \n",
      "\n",
      "  gear_box_type drive_wheels   doors             wheel   color  airbags  \n",
      "0     Automatic          4x4  04-May        Left wheel  Silver       12  \n",
      "1     Tiptronic          4x4  04-May        Left wheel   Black        8  \n",
      "2      Variator        Front  04-May  Right-hand drive   Black        2  \n",
      "3     Automatic          4x4  04-May        Left wheel   White        0  \n",
      "4     Automatic        Front  04-May        Left wheel  Silver        4  \n",
      "[1 0]\n"
     ]
    }
   ],
   "execution_count": 39
  },
  {
   "metadata": {
    "ExecuteTime": {
     "end_time": "2025-05-20T18:42:31.811440Z",
     "start_time": "2025-05-20T18:42:31.803774Z"
    }
   },
   "cell_type": "code",
   "source": [
    "#zmiana binarnych części\n",
    "cat_cols = df.select_dtypes(include='object').columns\n",
    "label_encoders = {}\n",
    "print(cat_cols)"
   ],
   "id": "2bcb7047de6e437",
   "outputs": [
    {
     "name": "stdout",
     "output_type": "stream",
     "text": [
      "Index(['levy', 'manufacturer', 'model', 'category', 'fuel_type',\n",
      "       'engine_volume', 'mileage', 'gear_box_type', 'drive_wheels', 'doors',\n",
      "       'wheel', 'color'],\n",
      "      dtype='object')\n"
     ]
    }
   ],
   "execution_count": 41
  }
 ],
 "metadata": {
  "kernelspec": {
   "display_name": "Python 3",
   "language": "python",
   "name": "python3"
  },
  "language_info": {
   "codemirror_mode": {
    "name": "ipython",
    "version": 2
   },
   "file_extension": ".py",
   "mimetype": "text/x-python",
   "name": "python",
   "nbconvert_exporter": "python",
   "pygments_lexer": "ipython2",
   "version": "2.7.6"
  }
 },
 "nbformat": 4,
 "nbformat_minor": 5
}
