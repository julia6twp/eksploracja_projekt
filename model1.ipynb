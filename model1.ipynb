{
 "cells": [
  {
   "cell_type": "code",
   "id": "initial_id",
   "metadata": {
    "collapsed": true,
    "ExecuteTime": {
     "end_time": "2025-05-20T19:48:13.842432Z",
     "start_time": "2025-05-20T19:48:13.838073Z"
    }
   },
   "source": [
    "import pandas as pd\n",
    "import numpy as np\n",
    "import seaborn as sns\n",
    "import matplotlib.pyplot as plt\n",
    "from scipy.stats import chi2_contingency, normaltest"
   ],
   "outputs": [],
   "execution_count": 121
  },
  {
   "metadata": {
    "ExecuteTime": {
     "end_time": "2025-05-20T19:48:13.917435Z",
     "start_time": "2025-05-20T19:48:13.867282Z"
    }
   },
   "cell_type": "code",
   "source": [
    "df = pd.read_csv(\"./data/car_price_prediction.csv\")\n",
    "print(df.head())\n",
    "print(df.info())"
   ],
   "id": "5b71c76838291022",
   "outputs": [
    {
     "name": "stdout",
     "output_type": "stream",
     "text": [
      "         ID  Price  Levy Manufacturer    Model  Prod. year   Category  \\\n",
      "0  45654403  13328  1399        LEXUS   RX 450        2010       Jeep   \n",
      "1  44731507  16621  1018    CHEVROLET  Equinox        2011       Jeep   \n",
      "2  45774419   8467     -        HONDA      FIT        2006  Hatchback   \n",
      "3  45769185   3607   862         FORD   Escape        2011       Jeep   \n",
      "4  45809263  11726   446        HONDA      FIT        2014  Hatchback   \n",
      "\n",
      "  Leather interior Fuel type Engine volume    Mileage  Cylinders  \\\n",
      "0              Yes    Hybrid           3.5  186005 km       6.00   \n",
      "1               No    Petrol             3  192000 km       6.00   \n",
      "2               No    Petrol           1.3  200000 km       4.00   \n",
      "3              Yes    Hybrid           2.5  168966 km       4.00   \n",
      "4              Yes    Petrol           1.3   91901 km       4.00   \n",
      "\n",
      "  Gear box type Drive wheels   Doors             Wheel   Color  Airbags  \n",
      "0     Automatic          4x4  04-May        Left wheel  Silver       12  \n",
      "1     Tiptronic          4x4  04-May        Left wheel   Black        8  \n",
      "2      Variator        Front  04-May  Right-hand drive   Black        2  \n",
      "3     Automatic          4x4  04-May        Left wheel   White        0  \n",
      "4     Automatic        Front  04-May        Left wheel  Silver        4  \n",
      "<class 'pandas.core.frame.DataFrame'>\n",
      "RangeIndex: 19237 entries, 0 to 19236\n",
      "Data columns (total 18 columns):\n",
      " #   Column            Non-Null Count  Dtype  \n",
      "---  ------            --------------  -----  \n",
      " 0   ID                19237 non-null  int64  \n",
      " 1   Price             19237 non-null  int64  \n",
      " 2   Levy              19237 non-null  object \n",
      " 3   Manufacturer      19237 non-null  object \n",
      " 4   Model             19237 non-null  object \n",
      " 5   Prod. year        19237 non-null  int64  \n",
      " 6   Category          19237 non-null  object \n",
      " 7   Leather interior  19237 non-null  object \n",
      " 8   Fuel type         19237 non-null  object \n",
      " 9   Engine volume     19237 non-null  object \n",
      " 10  Mileage           19237 non-null  object \n",
      " 11  Cylinders         19237 non-null  float64\n",
      " 12  Gear box type     19237 non-null  object \n",
      " 13  Drive wheels      19237 non-null  object \n",
      " 14  Doors             19237 non-null  object \n",
      " 15  Wheel             19237 non-null  object \n",
      " 16  Color             19237 non-null  object \n",
      " 17  Airbags           19237 non-null  int64  \n",
      "dtypes: float64(1), int64(4), object(13)\n",
      "memory usage: 2.6+ MB\n",
      "None\n"
     ]
    }
   ],
   "execution_count": 122
  },
  {
   "metadata": {
    "ExecuteTime": {
     "end_time": "2025-05-20T19:48:13.943420Z",
     "start_time": "2025-05-20T19:48:13.922115Z"
    }
   },
   "cell_type": "code",
   "source": [
    "df.columns = [col.strip().replace(' ', '_').replace('.', '').lower() for col in df.columns]\n",
    "print(df.head())\n",
    "print(df.info())\n"
   ],
   "id": "2fa9320fb222ed17",
   "outputs": [
    {
     "name": "stdout",
     "output_type": "stream",
     "text": [
      "         id  price  levy manufacturer    model  prod_year   category  \\\n",
      "0  45654403  13328  1399        LEXUS   RX 450       2010       Jeep   \n",
      "1  44731507  16621  1018    CHEVROLET  Equinox       2011       Jeep   \n",
      "2  45774419   8467     -        HONDA      FIT       2006  Hatchback   \n",
      "3  45769185   3607   862         FORD   Escape       2011       Jeep   \n",
      "4  45809263  11726   446        HONDA      FIT       2014  Hatchback   \n",
      "\n",
      "  leather_interior fuel_type engine_volume    mileage  cylinders  \\\n",
      "0              Yes    Hybrid           3.5  186005 km       6.00   \n",
      "1               No    Petrol             3  192000 km       6.00   \n",
      "2               No    Petrol           1.3  200000 km       4.00   \n",
      "3              Yes    Hybrid           2.5  168966 km       4.00   \n",
      "4              Yes    Petrol           1.3   91901 km       4.00   \n",
      "\n",
      "  gear_box_type drive_wheels   doors             wheel   color  airbags  \n",
      "0     Automatic          4x4  04-May        Left wheel  Silver       12  \n",
      "1     Tiptronic          4x4  04-May        Left wheel   Black        8  \n",
      "2      Variator        Front  04-May  Right-hand drive   Black        2  \n",
      "3     Automatic          4x4  04-May        Left wheel   White        0  \n",
      "4     Automatic        Front  04-May        Left wheel  Silver        4  \n",
      "<class 'pandas.core.frame.DataFrame'>\n",
      "RangeIndex: 19237 entries, 0 to 19236\n",
      "Data columns (total 18 columns):\n",
      " #   Column            Non-Null Count  Dtype  \n",
      "---  ------            --------------  -----  \n",
      " 0   id                19237 non-null  int64  \n",
      " 1   price             19237 non-null  int64  \n",
      " 2   levy              19237 non-null  object \n",
      " 3   manufacturer      19237 non-null  object \n",
      " 4   model             19237 non-null  object \n",
      " 5   prod_year         19237 non-null  int64  \n",
      " 6   category          19237 non-null  object \n",
      " 7   leather_interior  19237 non-null  object \n",
      " 8   fuel_type         19237 non-null  object \n",
      " 9   engine_volume     19237 non-null  object \n",
      " 10  mileage           19237 non-null  object \n",
      " 11  cylinders         19237 non-null  float64\n",
      " 12  gear_box_type     19237 non-null  object \n",
      " 13  drive_wheels      19237 non-null  object \n",
      " 14  doors             19237 non-null  object \n",
      " 15  wheel             19237 non-null  object \n",
      " 16  color             19237 non-null  object \n",
      " 17  airbags           19237 non-null  int64  \n",
      "dtypes: float64(1), int64(4), object(13)\n",
      "memory usage: 2.6+ MB\n",
      "None\n"
     ]
    }
   ],
   "execution_count": 123
  },
  {
   "metadata": {
    "ExecuteTime": {
     "end_time": "2025-05-20T19:48:13.973443Z",
     "start_time": "2025-05-20T19:48:13.961289Z"
    }
   },
   "cell_type": "code",
   "source": [
    "print(df.isnull().sum())\n",
    "print(df['leather_interior'].unique())"
   ],
   "id": "82fe2daf529502f4",
   "outputs": [
    {
     "name": "stdout",
     "output_type": "stream",
     "text": [
      "id                  0\n",
      "price               0\n",
      "levy                0\n",
      "manufacturer        0\n",
      "model               0\n",
      "prod_year           0\n",
      "category            0\n",
      "leather_interior    0\n",
      "fuel_type           0\n",
      "engine_volume       0\n",
      "mileage             0\n",
      "cylinders           0\n",
      "gear_box_type       0\n",
      "drive_wheels        0\n",
      "doors               0\n",
      "wheel               0\n",
      "color               0\n",
      "airbags             0\n",
      "dtype: int64\n",
      "['Yes' 'No']\n"
     ]
    }
   ],
   "execution_count": 124
  },
  {
   "metadata": {
    "ExecuteTime": {
     "end_time": "2025-05-20T19:48:13.992089Z",
     "start_time": "2025-05-20T19:48:13.983339Z"
    }
   },
   "cell_type": "code",
   "source": [
    "print(df.columns.tolist())\n",
    "# df = df.drop(['id'], axis=1)\n",
    "print(df.head())\n"
   ],
   "id": "87039583be3f60f9",
   "outputs": [
    {
     "name": "stdout",
     "output_type": "stream",
     "text": [
      "['id', 'price', 'levy', 'manufacturer', 'model', 'prod_year', 'category', 'leather_interior', 'fuel_type', 'engine_volume', 'mileage', 'cylinders', 'gear_box_type', 'drive_wheels', 'doors', 'wheel', 'color', 'airbags']\n",
      "         id  price  levy manufacturer    model  prod_year   category  \\\n",
      "0  45654403  13328  1399        LEXUS   RX 450       2010       Jeep   \n",
      "1  44731507  16621  1018    CHEVROLET  Equinox       2011       Jeep   \n",
      "2  45774419   8467     -        HONDA      FIT       2006  Hatchback   \n",
      "3  45769185   3607   862         FORD   Escape       2011       Jeep   \n",
      "4  45809263  11726   446        HONDA      FIT       2014  Hatchback   \n",
      "\n",
      "  leather_interior fuel_type engine_volume    mileage  cylinders  \\\n",
      "0              Yes    Hybrid           3.5  186005 km       6.00   \n",
      "1               No    Petrol             3  192000 km       6.00   \n",
      "2               No    Petrol           1.3  200000 km       4.00   \n",
      "3              Yes    Hybrid           2.5  168966 km       4.00   \n",
      "4              Yes    Petrol           1.3   91901 km       4.00   \n",
      "\n",
      "  gear_box_type drive_wheels   doors             wheel   color  airbags  \n",
      "0     Automatic          4x4  04-May        Left wheel  Silver       12  \n",
      "1     Tiptronic          4x4  04-May        Left wheel   Black        8  \n",
      "2      Variator        Front  04-May  Right-hand drive   Black        2  \n",
      "3     Automatic          4x4  04-May        Left wheel   White        0  \n",
      "4     Automatic        Front  04-May        Left wheel  Silver        4  \n"
     ]
    }
   ],
   "execution_count": 125
  },
  {
   "metadata": {
    "ExecuteTime": {
     "end_time": "2025-05-20T19:48:14.023686Z",
     "start_time": "2025-05-20T19:48:14.013651Z"
    }
   },
   "cell_type": "code",
   "source": [
    "print(df['leather_interior'].unique())\n",
    "df['leather_interior'] = df['leather_interior'].map({'Yes': 1, 'No': 0})\n",
    "print(df.head())\n",
    "print(df['leather_interior'].unique())"
   ],
   "id": "4e2b0bf1d856b55c",
   "outputs": [
    {
     "name": "stdout",
     "output_type": "stream",
     "text": [
      "['Yes' 'No']\n",
      "         id  price  levy manufacturer    model  prod_year   category  \\\n",
      "0  45654403  13328  1399        LEXUS   RX 450       2010       Jeep   \n",
      "1  44731507  16621  1018    CHEVROLET  Equinox       2011       Jeep   \n",
      "2  45774419   8467     -        HONDA      FIT       2006  Hatchback   \n",
      "3  45769185   3607   862         FORD   Escape       2011       Jeep   \n",
      "4  45809263  11726   446        HONDA      FIT       2014  Hatchback   \n",
      "\n",
      "   leather_interior fuel_type engine_volume    mileage  cylinders  \\\n",
      "0                 1    Hybrid           3.5  186005 km       6.00   \n",
      "1                 0    Petrol             3  192000 km       6.00   \n",
      "2                 0    Petrol           1.3  200000 km       4.00   \n",
      "3                 1    Hybrid           2.5  168966 km       4.00   \n",
      "4                 1    Petrol           1.3   91901 km       4.00   \n",
      "\n",
      "  gear_box_type drive_wheels   doors             wheel   color  airbags  \n",
      "0     Automatic          4x4  04-May        Left wheel  Silver       12  \n",
      "1     Tiptronic          4x4  04-May        Left wheel   Black        8  \n",
      "2      Variator        Front  04-May  Right-hand drive   Black        2  \n",
      "3     Automatic          4x4  04-May        Left wheel   White        0  \n",
      "4     Automatic        Front  04-May        Left wheel  Silver        4  \n",
      "[1 0]\n"
     ]
    }
   ],
   "execution_count": 126
  },
  {
   "metadata": {
    "ExecuteTime": {
     "end_time": "2025-05-20T19:48:14.057807Z",
     "start_time": "2025-05-20T19:48:14.027950Z"
    }
   },
   "cell_type": "code",
   "source": [
    "df['levy'] = df['levy'].replace('-', np.nan)\n",
    "df['levy'] = df['levy'].str.replace(',', '').astype(float)\n",
    "df['mileage'] = df['mileage'].astype(str).str.replace(' km', '', regex=False).str.replace(',', '', regex=False).astype(int)\n",
    "df['engine_volume'] = df['engine_volume'].astype(str).str.extract(r'(\\d+\\.\\d+|\\d+)').astype(float)\n",
    "print(df.head())"
   ],
   "id": "8d4c4b1551548584",
   "outputs": [
    {
     "name": "stdout",
     "output_type": "stream",
     "text": [
      "         id  price    levy manufacturer    model  prod_year   category  \\\n",
      "0  45654403  13328 1399.00        LEXUS   RX 450       2010       Jeep   \n",
      "1  44731507  16621 1018.00    CHEVROLET  Equinox       2011       Jeep   \n",
      "2  45774419   8467     NaN        HONDA      FIT       2006  Hatchback   \n",
      "3  45769185   3607  862.00         FORD   Escape       2011       Jeep   \n",
      "4  45809263  11726  446.00        HONDA      FIT       2014  Hatchback   \n",
      "\n",
      "   leather_interior fuel_type  engine_volume  mileage  cylinders  \\\n",
      "0                 1    Hybrid           3.50   186005       6.00   \n",
      "1                 0    Petrol           3.00   192000       6.00   \n",
      "2                 0    Petrol           1.30   200000       4.00   \n",
      "3                 1    Hybrid           2.50   168966       4.00   \n",
      "4                 1    Petrol           1.30    91901       4.00   \n",
      "\n",
      "  gear_box_type drive_wheels   doors             wheel   color  airbags  \n",
      "0     Automatic          4x4  04-May        Left wheel  Silver       12  \n",
      "1     Tiptronic          4x4  04-May        Left wheel   Black        8  \n",
      "2      Variator        Front  04-May  Right-hand drive   Black        2  \n",
      "3     Automatic          4x4  04-May        Left wheel   White        0  \n",
      "4     Automatic        Front  04-May        Left wheel  Silver        4  \n"
     ]
    }
   ],
   "execution_count": 127
  },
  {
   "metadata": {
    "ExecuteTime": {
     "end_time": "2025-05-20T19:48:14.073564Z",
     "start_time": "2025-05-20T19:48:14.067566Z"
    }
   },
   "cell_type": "code",
   "source": [
    "#zmiana zmiennych tekstowych\n",
    "cat_cols = df.select_dtypes(include='object').columns\n",
    "label_encoders = {}\n",
    "print(cat_cols)"
   ],
   "id": "2bcb7047de6e437",
   "outputs": [
    {
     "name": "stdout",
     "output_type": "stream",
     "text": [
      "Index(['manufacturer', 'model', 'category', 'fuel_type', 'gear_box_type',\n",
      "       'drive_wheels', 'doors', 'wheel', 'color'],\n",
      "      dtype='object')\n"
     ]
    }
   ],
   "execution_count": 128
  },
  {
   "metadata": {
    "ExecuteTime": {
     "end_time": "2025-05-20T19:48:14.104406Z",
     "start_time": "2025-05-20T19:48:14.093023Z"
    }
   },
   "cell_type": "code",
   "source": [
    "print(df.head())\n",
    "print(df.info())"
   ],
   "id": "18281288b8f4f7ea",
   "outputs": [
    {
     "name": "stdout",
     "output_type": "stream",
     "text": [
      "         id  price    levy manufacturer    model  prod_year   category  \\\n",
      "0  45654403  13328 1399.00        LEXUS   RX 450       2010       Jeep   \n",
      "1  44731507  16621 1018.00    CHEVROLET  Equinox       2011       Jeep   \n",
      "2  45774419   8467     NaN        HONDA      FIT       2006  Hatchback   \n",
      "3  45769185   3607  862.00         FORD   Escape       2011       Jeep   \n",
      "4  45809263  11726  446.00        HONDA      FIT       2014  Hatchback   \n",
      "\n",
      "   leather_interior fuel_type  engine_volume  mileage  cylinders  \\\n",
      "0                 1    Hybrid           3.50   186005       6.00   \n",
      "1                 0    Petrol           3.00   192000       6.00   \n",
      "2                 0    Petrol           1.30   200000       4.00   \n",
      "3                 1    Hybrid           2.50   168966       4.00   \n",
      "4                 1    Petrol           1.30    91901       4.00   \n",
      "\n",
      "  gear_box_type drive_wheels   doors             wheel   color  airbags  \n",
      "0     Automatic          4x4  04-May        Left wheel  Silver       12  \n",
      "1     Tiptronic          4x4  04-May        Left wheel   Black        8  \n",
      "2      Variator        Front  04-May  Right-hand drive   Black        2  \n",
      "3     Automatic          4x4  04-May        Left wheel   White        0  \n",
      "4     Automatic        Front  04-May        Left wheel  Silver        4  \n",
      "<class 'pandas.core.frame.DataFrame'>\n",
      "RangeIndex: 19237 entries, 0 to 19236\n",
      "Data columns (total 18 columns):\n",
      " #   Column            Non-Null Count  Dtype  \n",
      "---  ------            --------------  -----  \n",
      " 0   id                19237 non-null  int64  \n",
      " 1   price             19237 non-null  int64  \n",
      " 2   levy              13418 non-null  float64\n",
      " 3   manufacturer      19237 non-null  object \n",
      " 4   model             19237 non-null  object \n",
      " 5   prod_year         19237 non-null  int64  \n",
      " 6   category          19237 non-null  object \n",
      " 7   leather_interior  19237 non-null  int64  \n",
      " 8   fuel_type         19237 non-null  object \n",
      " 9   engine_volume     19237 non-null  float64\n",
      " 10  mileage           19237 non-null  int64  \n",
      " 11  cylinders         19237 non-null  float64\n",
      " 12  gear_box_type     19237 non-null  object \n",
      " 13  drive_wheels      19237 non-null  object \n",
      " 14  doors             19237 non-null  object \n",
      " 15  wheel             19237 non-null  object \n",
      " 16  color             19237 non-null  object \n",
      " 17  airbags           19237 non-null  int64  \n",
      "dtypes: float64(3), int64(6), object(9)\n",
      "memory usage: 2.6+ MB\n",
      "None\n"
     ]
    }
   ],
   "execution_count": 129
  },
  {
   "metadata": {},
   "cell_type": "markdown",
   "source": "Statystyki opisowe dla zmiennych ilościowych",
   "id": "9eada7a76472401d"
  },
  {
   "metadata": {
    "ExecuteTime": {
     "end_time": "2025-05-20T19:48:14.129645Z",
     "start_time": "2025-05-20T19:48:14.108835Z"
    }
   },
   "cell_type": "code",
   "source": [
    "quantitative_cols = ['price', 'levy', 'engine_volume', 'mileage', 'cylinders', 'airbags']\n",
    "\n",
    "valid_quant_cols = [col for col in quantitative_cols if df[col].notna().any()]\n",
    "\n",
    "df_stats = df[valid_quant_cols].describe().T\n",
    "\n",
    "df_stats['mode'] = [\n",
    "    df[col].mode().iloc[0] if not df[col].mode().empty else np.nan\n",
    "    for col in df_stats.index\n",
    "]\n",
    "\n",
    "df_stats = df_stats.rename(columns={\n",
    "    'count': 'liczba',\n",
    "    'mean': 'średnia',\n",
    "    'std': 'odchylenie_std',\n",
    "    'min': 'minimum',\n",
    "    '25%': 'Q1',\n",
    "    '50%': 'mediana',\n",
    "    '75%': 'Q3',\n",
    "    'max': 'maksimum'\n",
    "})\n",
    "\n",
    "df_stats['wariancja'] = df[df_stats.index].var()\n",
    "\n",
    "pd.set_option('display.float_format', lambda x: '%.2f' % x)\n",
    "print(df_stats[['liczba', 'średnia', 'mediana', 'mode', 'minimum', 'maksimum', 'odchylenie_std', 'wariancja']])"
   ],
   "id": "2e27f2b8fb87f3ba",
   "outputs": [
    {
     "name": "stdout",
     "output_type": "stream",
     "text": [
      "                liczba    średnia   mediana     mode  minimum      maksimum  \\\n",
      "price         19237.00   18555.93  13172.00 15681.00     1.00   26307500.00   \n",
      "levy          13418.00     906.84    781.00   765.00    87.00      11714.00   \n",
      "engine_volume 19237.00       2.31      2.00     2.00     0.00         20.00   \n",
      "mileage       19237.00 1532235.69 126000.00     0.00     0.00 2147483647.00   \n",
      "cylinders     19237.00       4.58      4.00     4.00     1.00         16.00   \n",
      "airbags       19237.00       6.58      6.00     4.00     0.00         16.00   \n",
      "\n",
      "               odchylenie_std           wariancja  \n",
      "price               190581.27      36321220354.37  \n",
      "levy                   461.87           213321.17  \n",
      "engine_volume            0.88                0.77  \n",
      "mileage           48403869.38 2342934570887396.00  \n",
      "cylinders                1.20                1.44  \n",
      "airbags                  4.32               18.66  \n"
     ]
    }
   ],
   "execution_count": 130
  },
  {
   "metadata": {
    "ExecuteTime": {
     "end_time": "2025-05-20T19:48:14.142132Z",
     "start_time": "2025-05-20T19:48:14.138195Z"
    }
   },
   "cell_type": "code",
   "source": "print(df['leather_interior'].value_counts())",
   "id": "b7ec01033811cb32",
   "outputs": [
    {
     "name": "stdout",
     "output_type": "stream",
     "text": [
      "leather_interior\n",
      "1    13954\n",
      "0     5283\n",
      "Name: count, dtype: int64\n"
     ]
    }
   ],
   "execution_count": 131
  },
  {
   "metadata": {
    "ExecuteTime": {
     "end_time": "2025-05-20T19:48:14.167793Z",
     "start_time": "2025-05-20T19:48:14.151050Z"
    }
   },
   "cell_type": "code",
   "source": [
    "#Zmienna zależna\n",
    "target_col = 'price'\n",
    "\n",
    "qualitative_cols = df.select_dtypes(include='object').columns.tolist()\n",
    "for col in qualitative_cols:\n",
    "    print(f\"\\nLiczność dla zmiennej: {col}\")\n",
    "    print(df[col].value_counts())\n",
    "    print(\"-\" * 40)"
   ],
   "id": "a201830ab87f7ff9",
   "outputs": [
    {
     "name": "stdout",
     "output_type": "stream",
     "text": [
      "\n",
      "Liczność dla zmiennej: manufacturer\n",
      "manufacturer\n",
      "HYUNDAI          3769\n",
      "TOYOTA           3662\n",
      "MERCEDES-BENZ    2076\n",
      "FORD             1111\n",
      "CHEVROLET        1069\n",
      "                 ... \n",
      "LAMBORGHINI         1\n",
      "PONTIAC             1\n",
      "SATURN              1\n",
      "ASTON MARTIN        1\n",
      "GREATWALL           1\n",
      "Name: count, Length: 65, dtype: int64\n",
      "----------------------------------------\n",
      "\n",
      "Liczność dla zmiennej: model\n",
      "model\n",
      "Prius              1083\n",
      "Sonata             1079\n",
      "Camry               938\n",
      "Elantra             922\n",
      "E 350               542\n",
      "                   ... \n",
      "530 i                 1\n",
      "E 500 AVG             1\n",
      "Vito Extralong        1\n",
      "C 240 W 203           1\n",
      "Vito Exstralong       1\n",
      "Name: count, Length: 1590, dtype: int64\n",
      "----------------------------------------\n",
      "\n",
      "Liczność dla zmiennej: category\n",
      "category\n",
      "Sedan          8736\n",
      "Jeep           5473\n",
      "Hatchback      2847\n",
      "Minivan         647\n",
      "Coupe           532\n",
      "Universal       364\n",
      "Microbus        306\n",
      "Goods wagon     233\n",
      "Pickup           52\n",
      "Cabriolet        36\n",
      "Limousine        11\n",
      "Name: count, dtype: int64\n",
      "----------------------------------------\n",
      "\n",
      "Liczność dla zmiennej: fuel_type\n",
      "fuel_type\n",
      "Petrol            10150\n",
      "Diesel             4036\n",
      "Hybrid             3578\n",
      "LPG                 892\n",
      "CNG                 494\n",
      "Plug-in Hybrid       86\n",
      "Hydrogen              1\n",
      "Name: count, dtype: int64\n",
      "----------------------------------------\n",
      "\n",
      "Liczność dla zmiennej: gear_box_type\n",
      "gear_box_type\n",
      "Automatic    13514\n",
      "Tiptronic     3102\n",
      "Manual        1875\n",
      "Variator       746\n",
      "Name: count, dtype: int64\n",
      "----------------------------------------\n",
      "\n",
      "Liczność dla zmiennej: drive_wheels\n",
      "drive_wheels\n",
      "Front    12874\n",
      "4x4       4058\n",
      "Rear      2305\n",
      "Name: count, dtype: int64\n",
      "----------------------------------------\n",
      "\n",
      "Liczność dla zmiennej: doors\n",
      "doors\n",
      "04-May    18332\n",
      "02-Mar      777\n",
      ">5          128\n",
      "Name: count, dtype: int64\n",
      "----------------------------------------\n",
      "\n",
      "Liczność dla zmiennej: wheel\n",
      "wheel\n",
      "Left wheel          17753\n",
      "Right-hand drive     1484\n",
      "Name: count, dtype: int64\n",
      "----------------------------------------\n",
      "\n",
      "Liczność dla zmiennej: color\n",
      "color\n",
      "Black            5033\n",
      "White            4489\n",
      "Silver           3792\n",
      "Grey             2375\n",
      "Blue             1396\n",
      "Red               639\n",
      "Green             322\n",
      "Orange            253\n",
      "Brown             187\n",
      "Carnelian red     179\n",
      "Golden            145\n",
      "Beige             134\n",
      "Sky blue          122\n",
      "Yellow            106\n",
      "Purple             39\n",
      "Pink               26\n",
      "Name: count, dtype: int64\n",
      "----------------------------------------\n"
     ]
    }
   ],
   "execution_count": 132
  },
  {
   "metadata": {
    "ExecuteTime": {
     "end_time": "2025-05-20T19:48:14.189094Z",
     "start_time": "2025-05-20T19:48:14.177906Z"
    }
   },
   "cell_type": "code",
   "source": [
    "pivot = pd.crosstab(df['category'], df['fuel_type'])\n",
    "print(\"\\nTabela wielodzielcza: category vs fuel_type\")\n",
    "print(pivot)"
   ],
   "id": "629aba93c5b9db8d",
   "outputs": [
    {
     "name": "stdout",
     "output_type": "stream",
     "text": [
      "\n",
      "Tabela wielodzielcza: category vs fuel_type\n",
      "fuel_type    CNG  Diesel  Hybrid  Hydrogen  LPG  Petrol  Plug-in Hybrid\n",
      "category                                                               \n",
      "Cabriolet      0       1       0         0    0      35               0\n",
      "Coupe          7      32      11         0    3     479               0\n",
      "Goods wagon   17     165       0         0    3      48               0\n",
      "Hatchback     41      79    1309         0   39    1331              48\n",
      "Jeep         144    2034     588         0   83    2622               2\n",
      "Limousine      1       0       0         0    0      10               0\n",
      "Microbus       5     290       0         0    1      10               0\n",
      "Minivan       49     381      11         0   40     165               1\n",
      "Pickup         0      27       0         0    2      23               0\n",
      "Sedan        203     844    1618         1  706    5329              35\n",
      "Universal     27     183      41         0   15      98               0\n"
     ]
    }
   ],
   "execution_count": 133
  },
  {
   "metadata": {
    "ExecuteTime": {
     "end_time": "2025-05-20T19:48:14.201986Z",
     "start_time": "2025-05-20T19:48:14.199841Z"
    }
   },
   "cell_type": "code",
   "source": "",
   "id": "fcc902b553f532be",
   "outputs": [],
   "execution_count": null
  },
  {
   "metadata": {
    "ExecuteTime": {
     "end_time": "2025-05-20T19:48:14.318896Z",
     "start_time": "2025-05-20T19:48:14.212648Z"
    }
   },
   "cell_type": "code",
   "source": [
    "quantitative_cols = ['price', 'levy', 'engine_volume', 'mileage', 'cylinders', 'airbags']\n",
    "corr_matrix = df[quantitative_cols].corr()\n",
    "\n",
    "plt.figure(figsize=(8,6))\n",
    "sns.heatmap(corr_matrix, annot=True, cmap='coolwarm')\n",
    "plt.title('Macierz korelacji')\n",
    "plt.show()"
   ],
   "id": "6d10b7716f407120",
   "outputs": [
    {
     "data": {
      "text/plain": [
       "<Figure size 800x600 with 2 Axes>"
      ],
      "image/png": "[encoded data removed]"
     },
     "metadata": {},
     "output_type": "display_data"
    }
   ],
   "execution_count": 134
  }
 ],
 "metadata": {
  "kernelspec": {
   "display_name": "Python 3",
   "language": "python",
   "name": "python3"
  },
  "language_info": {
   "codemirror_mode": {
    "name": "ipython",
    "version": 2
   },
   "file_extension": ".py",
   "mimetype": "text/x-python",
   "name": "python",
   "nbconvert_exporter": "python",
   "pygments_lexer": "ipython2",
   "version": "2.7.6"
  }
 },
 "nbformat": 4,
 "nbformat_minor": 5
}
